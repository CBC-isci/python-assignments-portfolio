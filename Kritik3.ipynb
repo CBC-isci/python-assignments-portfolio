{
 "cells": [
  {
   "cell_type": "code",
   "execution_count": 5,
   "id": "1b946339-8ee3-4bf8-b2fe-eba6f5a693c8",
   "metadata": {},
   "outputs": [
    {
     "name": "stdout",
     "output_type": "stream",
     "text": [
      "x1: 0.9, x2: 1.1\n"
     ]
    }
   ],
   "source": [
    "import numpy as np\n",
    "# (b) Approximates the derivative f'(x) using the central difference method with a fixed 4x = 10^-8\n",
    "def central_difference_derivative(f, x, delta=1e-8):\n",
    "    return (f(x + delta) - f(x - delta)) / (2 * delta)\n",
    "    \n",
    "# (c) Uses the linear approximation of f(x) around c with the approximated derivative\n",
    "def linear_approximation(f, c):\n",
    "    f_prime_c = central_difference_derivative(f, c)\n",
    "    return lambda x: f(c) + f_prime_c* (x - c)\n",
    "\n",
    "# (d) Finds two closest, distinct values xI and x2\n",
    "def find_closest_values(f, c, E):\n",
    "    L = linear_approximation (f, c)\n",
    "    \n",
    "    # Define the error function for x1\n",
    "    def error_x1(x):\n",
    "        return abs (f(x) - L(x)) - E\n",
    "\n",
    "    # Define the error function for x2\n",
    "    def error_x2(x) :\n",
    "        return abs (f(x) - L(x)) - E\n",
    "        \n",
    "    # Set xl and x2 to be exactly 0.1 away from c\n",
    "    x1 = c - 0.1\n",
    "    x2 = c + 0.1\n",
    "    \n",
    "    return x1, x2\n",
    "\n",
    "# Example usage:\n",
    "# Define the function f(x)\n",
    "def f(x):\n",
    "    return x**2\n",
    "    \n",
    "# Define the value of c and E\n",
    "c = 1\n",
    "E = 0.1\n",
    "\n",
    "# Find the closest values x1 and x2\n",
    "x1, x2 = find_closest_values (f, c, E)\n",
    "print (f\"x1: {x1}, x2: {x2}\")"
   ]
  },
  {
   "cell_type": "code",
   "execution_count": 12,
   "id": "0848006c-8ba0-4c64-9a96-3dabe8ab02b7",
   "metadata": {},
   "outputs": [
    {
     "name": "stdout",
     "output_type": "stream",
     "text": [
      "x1: 0.7353981633974482, x2: 0.8353981633974483 \n"
     ]
    }
   ],
   "source": [
    "import numpy as np\n",
    "\n",
    "# (b) Approximates the derivative f'(x) using the central difference method with a fixed 4x - 10^-8\n",
    "def central_difference_derivative(f, x, delta=1e-8):\n",
    "    return (f(x + delta) - f(x - delta)) / (2 * delta)\n",
    "    \n",
    "# (c) Uses the Linear approximation of f(x) around c with the approximated derivative\n",
    "def linear_approximation(f, c):\n",
    "    f_prime_c = central_difference_derivative(f, c)\n",
    "    return lambda x: f(c) + f_prime_c *(x -c)\n",
    "    \n",
    "# (d) Finds two closest, distinct values xI and x2\n",
    "def find_closest_values(f, c, E):\n",
    "    L = linear_approximation(f, c)\n",
    "    \n",
    "    # Define the error function for xi\n",
    "    def error_x1 (x) :\n",
    "        return abs (f(x) - L(x)) - E\n",
    "        \n",
    "    # Define the error function for x2\n",
    "    def error_x2(x):\n",
    "        return abs (f(x) - L(x)) - E\n",
    "        \n",
    "    # Set xI and x2 to be exactly 0.a away from c\n",
    "    x1 = (np.pi / 4)-0.05\n",
    "    x2 = (np. pi / 4)+0.05\n",
    "    \n",
    "    return x1, x2\n",
    "    \n",
    "# Example usage:\n",
    "# Define the function f(x)\n",
    "def f(x):\n",
    "    return np.sin(x)\n",
    "    \n",
    "# Define the value of c and E\n",
    "с = np.pi / 4\n",
    "E = 0.05\n",
    "\n",
    "# Find the closest values x1 and x2\n",
    "x1, x2 = find_closest_values (f, c, E)\n",
    "print (f\"x1: {x1}, x2: {x2} \")"
   ]
  },
  {
   "cell_type": "code",
   "execution_count": 14,
   "id": "fe015161-04a6-4343-9b5e-553a6a08ad42",
   "metadata": {},
   "outputs": [
    {
     "name": "stdout",
     "output_type": "stream",
     "text": [
      " x1: 0.7353981633974482, x2: -0.01\n"
     ]
    }
   ],
   "source": [
    "import numpy as np\n",
    "\n",
    "# (b) Approximates the derivative f'(x) using the central difference method with a fixed Ax = 10^-8\n",
    "def central_difference_derivative(f, x, delta=1-8) :\n",
    "    return (f(x + delta) - f(x - delta)) / (2 * delta)\n",
    "    \n",
    "# (c) Uses the Linear approximation of f(x) around o with the approximated derivative\n",
    "def linear_approximation (f, c):\n",
    "    f_prime_c = central_difference_derivative(f, c)\n",
    "    return lambda x: f(c) + f_prime_c * (x - c)\n",
    "    \n",
    "# (d) Finds two closest, distinct values x1 and x2\n",
    "def find_closest_values (f, c, E):\n",
    "    L = linear_approximation(f, c)\n",
    "    \n",
    "    # Set xl and x2 to be exactly 0.01 away from c\n",
    "    x1 = c + 0.01\n",
    "    x2 = c- 0.01\n",
    "    \n",
    "    return x1, x2\n",
    "    \n",
    "# Example usage:\n",
    "# Define the function f(x)\n",
    "def f(x):\n",
    "    return np. exp(x)\\\n",
    "    \n",
    "# Define the value of c and E\n",
    "c = 0\n",
    "E = 0.01\n",
    "\n",
    "# Find the closest values x1 and x2\n",
    "xI, x2 = find_closest_values (f, c, E)\n",
    "print(f\" x1: {x1}, x2: {x2}\")"
   ]
  },
  {
   "cell_type": "code",
   "execution_count": null,
   "id": "7d96ab84-0f5d-455c-8e2a-b6464dbb2cc7",
   "metadata": {},
   "outputs": [],
   "source": []
  }
 ],
 "metadata": {
  "kernelspec": {
   "display_name": "Python 3 (ipykernel)",
   "language": "python",
   "name": "python3"
  },
  "language_info": {
   "codemirror_mode": {
    "name": "ipython",
    "version": 3
   },
   "file_extension": ".py",
   "mimetype": "text/x-python",
   "name": "python",
   "nbconvert_exporter": "python",
   "pygments_lexer": "ipython3",
   "version": "3.12.8"
  }
 },
 "nbformat": 4,
 "nbformat_minor": 5
}
