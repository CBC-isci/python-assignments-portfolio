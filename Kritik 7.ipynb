{
 "cells": [
  {
   "cell_type": "code",
   "execution_count": 4,
   "id": "42b7e43d-ee62-49d2-beee-08b615095c47",
   "metadata": {},
   "outputs": [
    {
     "ename": "NameError",
     "evalue": "name 'sample_size' is not defined",
     "output_type": "error",
     "traceback": [
      "\u001b[0;31m---------------------------------------------------------------------------\u001b[0m",
      "\u001b[0;31mNameError\u001b[0m                                 Traceback (most recent call last)",
      "Cell \u001b[0;32mIn[4], line 36\u001b[0m\n\u001b[1;32m     33\u001b[0m sample_mean, sample_std \u001b[38;5;241m=\u001b[39m compute_mean_std(data)\n\u001b[1;32m     35\u001b[0m \u001b[38;5;66;03m# Step 2: Compute t0\u001b[39;00m\n\u001b[0;32m---> 36\u001b[0m \u001b[43msample_size\u001b[49m \u001b[38;5;241m-\u001b[39m \u001b[38;5;28mlen\u001b[39m(data)\n\u001b[1;32m     37\u001b[0m t0 \u001b[38;5;241m=\u001b[39m compute_t0(sample_mean, population_mean, sample_std, sample_size)\n\u001b[1;32m     39\u001b[0m \u001b[38;5;66;03m# Step 3: Compute t*\u001b[39;00m\n",
      "\u001b[0;31mNameError\u001b[0m: name 'sample_size' is not defined"
     ]
    }
   ],
   "source": [
    "import numpy as np\n",
    "\n",
    "def compute_mean_std(data) :\n",
    "    n = len (data)\n",
    "    mean = sum(data) / n\n",
    "    variance = sum((x - mean)**2 for x in data) / (n - 1) # Sample variance\n",
    "    std_dev = variance ** 0.5\n",
    "    return mean, std_dev\n",
    "    \n",
    "def compute_t0(sample_mean, population_mean, sample_std, sample_size) :\n",
    "    return (sample_mean - population_mean) / (sample_std / (sample_size ** 0.5))\n",
    "\n",
    "def _distribution_pdf(x, nu):\n",
    "    from scipy.stats import t\n",
    "    return t.pdf(x, nu)\n",
    "    \n",
    "def find_t_star (prob, nu, x_start=0, x_end=20, num_points=10000):\n",
    "    x = np.linspace(x_start, x_end, num_points)\n",
    "    y = t_distribution_pdf(x, nu)\n",
    "    cdf = np.cumsum (y) * (x[1] - x[0])\n",
    "    target_half_prob = prob / 2\n",
    "    index = np. where(cdf >= target_half_prob) [0][0] \n",
    "    return x[index]\n",
    "    \n",
    "def hypothesis_test(t0, t_star):\n",
    "    return abs (t0) <= t_star\n",
    "\n",
    "# Given data\n",
    "data = [92.64, 79.00, 84.79, 97.41, 93.68, 65.23, 84.50, 73.49, 73.97, 79.11]\n",
    "population_mean = 75\n",
    "\n",
    "# Step 1: Compute mean and standard deviation\n",
    "sample_mean, sample_std = compute_mean_std(data)\n",
    "\n",
    "# Step 2: Compute t0\n",
    "sample_size = len(data)\n",
    "t0 = compute_t0(sample_mean, population_mean, sample_std, sample_size)\n",
    "\n",
    "# Step 3: Compute t*\n",
    "degrees_of_freedom = sample_size - 1\n",
    "t_star = find_t_star(0.95, degrees_of_freedom)\n",
    "\n",
    "# Step 4: Hypothesis test\n",
    "result = hypothesis_test(t0, t_star)\n",
    "\n",
    "# Step 5: Conclusion\n",
    "print(f\"Sample Mean: {sample_mean:.2f}\")\n",
    "print(f\"Sample Standard Deviation: {sample_std:.2f}\")\n",
    "print(f\"Computed t0: {t0:.2f}\")\n",
    "print(f\"Critical t*: {t_star:.2f}\")\n",
    "print(f\"Null Hypothesis Rejected: {not result}\")\n",
    "\n",
    "if not result:\n",
    "    print(\"There is a significant difference from the national average.\")\n",
    "    print(\"The teaching technique is beneficial\")\n",
    "else:\n",
    "    print(\"We do not have enough evidence to conclude a difference from the national average.\")"
   ]
  },
  {
   "cell_type": "code",
   "execution_count": null,
   "id": "8bf5a4ca-be65-4fb5-aa38-5dbd9d10567a",
   "metadata": {},
   "outputs": [],
   "source": []
  }
 ],
 "metadata": {
  "kernelspec": {
   "display_name": "Python 3 (ipykernel)",
   "language": "python",
   "name": "python3"
  },
  "language_info": {
   "codemirror_mode": {
    "name": "ipython",
    "version": 3
   },
   "file_extension": ".py",
   "mimetype": "text/x-python",
   "name": "python",
   "nbconvert_exporter": "python",
   "pygments_lexer": "ipython3",
   "version": "3.12.8"
  }
 },
 "nbformat": 4,
 "nbformat_minor": 5
}
