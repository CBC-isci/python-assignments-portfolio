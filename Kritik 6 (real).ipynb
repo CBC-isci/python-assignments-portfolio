{
 "cells": [
  {
   "cell_type": "code",
   "execution_count": 2,
   "id": "3344685a-c4f5-4253-84ad-b7c3909cd705",
   "metadata": {},
   "outputs": [
    {
     "ename": "SyntaxError",
     "evalue": "closing parenthesis ')' does not match opening parenthesis '{' (1541669589.py, line 43)",
     "output_type": "error",
     "traceback": [
      "\u001b[0;36m  Cell \u001b[0;32mIn[2], line 43\u001b[0;36m\u001b[0m\n\u001b[0;31m    print(\"f\"Probability of height between {a}cm and {b)cm: {probability:.4f}\")\u001b[0m\n\u001b[0m                                                       ^\u001b[0m\n\u001b[0;31mSyntaxError\u001b[0m\u001b[0;31m:\u001b[0m closing parenthesis ')' does not match opening parenthesis '{'\n"
     ]
    }
   ],
   "source": [
    "import numpy as np\n",
    "import matplotlib.pyplot as plt\n",
    "import scipy.integrate as integrate\n",
    "\n",
    "# Step 1: Define the normal density function\n",
    "def normal_density(mean, variance, x):\n",
    "    sigma = np.sqrt(variance)  # Standard deviation\n",
    "    return (1 / (np.sqrt(2 * np.pi * variance))) * np.exp(-((x - mean) ** 2) / (2 * variance))\n",
    "\n",
    "# Step 2: Plot the normal distribution for different parameters\n",
    "def plot_normal_distributions():\n",
    "    x = np.linspace(150, 200, 1000)  # Range of x values\n",
    "\n",
    "    params = [\n",
    "        (171, 7.1 ** 2, 'blue', 'μ=171, σ²=7.1²'),\n",
    "        (175, 10 ** 2, 'red', 'μ=175, σ²=10²'),\n",
    "        (180, 5 ** 2, 'green', 'μ=180, σ²=5²')\n",
    "    ]\n",
    "\n",
    "    plt.figure(figsize=(8, 5))\n",
    "\n",
    "    for mean, variance, color, label in params:\n",
    "        y = normal_density(mean, variance, x)\n",
    "        plt.plot(x, y, color=color, label=label)\n",
    "\n",
    "    plt.title(\"Normal Distributions\")\n",
    "    plt.xlabel(\"x\")\n",
    "    plt.ylabel(\"Density\")\n",
    "    plt.legend()\n",
    "    plt.show()\n",
    "\n",
    "# Step 3: Implement numerical integration\n",
    "def integration(mean, variance, a, b):\n",
    "    result, _ = integrate.quad(lambda x: normal_density(mean, variance, x), a, b)\n",
    "    return result\n",
    "\n",
    "# Step 4: Compute probability of height between 162 cm and 190 cm\n",
    "mean = 171\n",
    "variance = 7.1\n",
    "a, b = 162, 190\n",
    "\n",
    "probability = integration (mean, variance, a, b)\n",
    "print (f\"Probability of height between {a}cm and {b}cm: {probability:.4f}\")\n",
    "\n",
    "# Run the plot function to visualize distributions\n",
    "plot_normal_distributions ()"
   ]
  },
  {
   "cell_type": "code",
   "execution_count": null,
   "id": "fe1f831b-8e5b-457b-b761-a7653c971920",
   "metadata": {},
   "outputs": [],
   "source": []
  }
 ],
 "metadata": {
  "kernelspec": {
   "display_name": "Python 3 (ipykernel)",
   "language": "python",
   "name": "python3"
  },
  "language_info": {
   "codemirror_mode": {
    "name": "ipython",
    "version": 3
   },
   "file_extension": ".py",
   "mimetype": "text/x-python",
   "name": "python",
   "nbconvert_exporter": "python",
   "pygments_lexer": "ipython3",
   "version": "3.12.8"
  }
 },
 "nbformat": 4,
 "nbformat_minor": 5
}
