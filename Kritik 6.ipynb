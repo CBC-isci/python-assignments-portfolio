{
 "cells": [
  {
   "cell_type": "code",
   "execution_count": 27,
   "id": "2a510f11-e6cb-4f0c-bb3c-17ac38c3aea7",
   "metadata": {},
   "outputs": [
    {
     "name": "stdout",
     "output_type": "stream",
     "text": [
      "Using seed point: (0.3, 0.3) and 10000 steps.\n"
     ]
    },
    {
     "ename": "ValueError",
     "evalue": "The seed point is not inside the triangle",
     "output_type": "error",
     "traceback": [
      "\u001b[0;31m---------------------------------------------------------------------------\u001b[0m",
      "\u001b[0;31mValueError\u001b[0m                                Traceback (most recent call last)",
      "Cell \u001b[0;32mIn[27], line 31\u001b[0m\n\u001b[1;32m     29\u001b[0m \u001b[38;5;66;03m# Check if the seed point is inside the triangle\u001b[39;00m\n\u001b[1;32m     30\u001b[0m \u001b[38;5;28;01mif\u001b[39;00m \u001b[38;5;129;01mnot\u001b[39;00m isInside(\u001b[38;5;241m0\u001b[39m, \u001b[38;5;241m0\u001b[39m, \u001b[38;5;241m1\u001b[39m, \u001b[38;5;241m0\u001b[39m, \u001b[38;5;241m0.5\u001b[39m, \u001b[38;5;241m0.866\u001b[39m, seed_x, seed_y):\n\u001b[0;32m---> 31\u001b[0m     \u001b[38;5;28;01mraise\u001b[39;00m \u001b[38;5;167;01mValueError\u001b[39;00m(\u001b[38;5;124m\"\u001b[39m\u001b[38;5;124mThe seed point is not inside the triangle\u001b[39m\u001b[38;5;124m\"\u001b[39m)\n\u001b[1;32m     33\u001b[0m \u001b[38;5;66;03m# Starting seed point\u001b[39;00m\n\u001b[1;32m     34\u001b[0m seed \u001b[38;5;241m=\u001b[39m (seed_x, seed_y)\n",
      "\u001b[0;31mValueError\u001b[0m: The seed point is not inside the triangle"
     ]
    }
   ],
   "source": [
    "import matplotlib.pyplot as plt \n",
    "import random\n",
    "\n",
    "# Vertices of an equilateral triangle\n",
    "vertices = [(0, 0), (1, 0), (0.5, 0.866)]\n",
    "\n",
    "# Function to calculate the area of a triangle\n",
    "def area (x1, y1, x2, y2, x3, y3):\n",
    "    return abs ((x1 * (y2 - y3) + x2 * (y3 - y1) + x3 * (y1 - y2)) / 2.0)\n",
    "    \n",
    "# Function to check if a point is inside the triangle\n",
    "def isInside (x1, y1, x2, y2, x3, y3, x, y, epsilon=1-9):\n",
    "    # Calculate the total area of the triangle\n",
    "    A = area(x1, y1, x2, y2, x3, y3)\n",
    "    \n",
    "    # Calculate the areas of sub-triangles\n",
    "    A1 = area(x, y, x2, y2, x3, y3)\n",
    "    A2 = area(x1, y1, x, y, x3, y3)\n",
    "    A3 = area(x1, y1, x2, y2, x, y)\n",
    "    \n",
    "    # Check if the sum of the sub-areas is close to the total area\n",
    "    return abs(A - (A1 + A2 + A3)) < epsilon\n",
    "    \n",
    "# Hardcoded seed point and number of steps for environments without 'input()*\n",
    "seed_x, seed_y = 0.3, 0.3 # Example valid seed point\n",
    "num_steps = 10000 # Number of steps for the Chaos Game\n",
    "print(f\"Using seed point: ({seed_x}, {seed_y}) and {num_steps} steps.\")\n",
    "\n",
    "# Check if the seed point is inside the triangle\n",
    "if not isInside(0, 0, 1, 0, 0.5, 0.866, seed_x, seed_y):\n",
    "    raise ValueError(\"The seed point is not inside the triangle\")\n",
    "    \n",
    "# Starting seed point\n",
    "seed = (seed_x, seed_y)\n",
    "points = [seed] # Initialize points with the seed point\n",
    "\n",
    "# Chaos Game Algorithm\n",
    "for i in range(num_steps) :\n",
    "    # Choose a random vertex\n",
    "    next_vertex = vertices[random. randint (0, 2)]\n",
    "\n",
    "    # Compute the midpoint between the last point and the chosen vertex\n",
    "    last_point = points[-1]\n",
    "    next_point = (\n",
    "        (last_point [0] + next_vertex [0]) / 2,\n",
    "        (last_point [1] + next_vertex [1]) / 2\n",
    "    )\n",
    "\n",
    "    # Add the new point to the list of points\n",
    "    points.append (next_point)\n",
    "\n",
    "# Function to plot the solution set\n",
    "def plot_solution(points):\n",
    "    plt.scatter([p[0] for p in points[12:]], [p[1] for p in points [12:]], s=0.1) \n",
    "    plt.title (\"Chaos Game: Sierpinski Triangle\")\n",
    "    plt.axis (\"equal\")\n",
    "    plt.show()\n",
    "\n",
    "# Plot the points\n",
    "plot_solution(points)"
   ]
  },
  {
   "cell_type": "code",
   "execution_count": null,
   "id": "a6e1e26f-c864-435d-a2e4-e6f77e8c7a3d",
   "metadata": {},
   "outputs": [],
   "source": []
  }
 ],
 "metadata": {
  "kernelspec": {
   "display_name": "Python 3 (ipykernel)",
   "language": "python",
   "name": "python3"
  },
  "language_info": {
   "codemirror_mode": {
    "name": "ipython",
    "version": 3
   },
   "file_extension": ".py",
   "mimetype": "text/x-python",
   "name": "python",
   "nbconvert_exporter": "python",
   "pygments_lexer": "ipython3",
   "version": "3.12.8"
  }
 },
 "nbformat": 4,
 "nbformat_minor": 5
}
