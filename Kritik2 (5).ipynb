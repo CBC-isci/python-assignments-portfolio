{
 "cells": [
  {
   "cell_type": "code",
   "execution_count": 1,
   "id": "5600c883-a789-42ce-addd-4f5cd51770c4",
   "metadata": {},
   "outputs": [
    {
     "name": "stdout",
     "output_type": "stream",
     "text": [
      "Root of function in [0.1, 1] = 0.2698741376\n",
      "Root of function in [0, 2] = 0.0000000000\n",
      "Root of function in [3, 4] = 3.1415926536\n",
      "No root found for function in [5, 7]\n"
     ]
    }
   ],
   "source": [
    "import numpy as np\n",
    "\n",
    "def find_zero(g, left, right, precision=1e-15):\n",
    "    \n",
    "    if np.sign(g(left)) == np.sign(g(right)):\n",
    "        return None\n",
    "\n",
    "    for iteration in range(1000):\n",
    "        midpoint = (left + right) / 2\n",
    "\n",
    "        if np.abs(g(midpoint)) < precision:\n",
    "            return midpoint\n",
    "        elif np.sign(g(left)) == np.sign(g(midpoint)):\n",
    "            return find_zero(g, midpoint, right, precision)\n",
    "        else:\n",
    "            return find_zero(g, left, midpoint, precision)\n",
    "\n",
    "test_intervals = [\n",
    "    (lambda x: np.exp(x) + np.log(x), 0.1, 1),\n",
    "    (lambda x: np.arctan(x) - x**2, 0, 2),\n",
    "    (lambda x: np.sin(x) / np.log(x), 3, 4),\n",
    "    (lambda x: np.log(np.cos(x)), 5, 7)\n",
    "]\n",
    "\n",
    "for idx, (g, left, right) in enumerate(test_intervals):\n",
    "    result = find_zero(g, left, right)\n",
    "\n",
    "    if result is not None:\n",
    "        print(f\"Root of function in [{left}, {right}] = {result:.10f}\")\n",
    "    else:\n",
    "        print(f\"No root found for function in [{left}, {right}]\")"
   ]
  },
  {
   "cell_type": "code",
   "execution_count": null,
   "id": "928c61be-d265-43c4-8494-4263f946cf5e",
   "metadata": {},
   "outputs": [],
   "source": []
  }
 ],
 "metadata": {
  "kernelspec": {
   "display_name": "Python 3 (ipykernel)",
   "language": "python",
   "name": "python3"
  },
  "language_info": {
   "codemirror_mode": {
    "name": "ipython",
    "version": 3
   },
   "file_extension": ".py",
   "mimetype": "text/x-python",
   "name": "python",
   "nbconvert_exporter": "python",
   "pygments_lexer": "ipython3",
   "version": "3.12.8"
  }
 },
 "nbformat": 4,
 "nbformat_minor": 5
}
